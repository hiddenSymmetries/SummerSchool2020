{
 "cells": [
  {
   "cell_type": "markdown",
   "metadata": {},
   "source": [
    "# Project 5 - Regularisation and Pareto fronts\n",
    "\n",
    "An important aspect in the design of Stellarators is the complexity of the coils. The simpler the coil shapes, the cheaper and easier they are to build. Two measures of complexity are given by the curvature and the torsion of the coils. The vacuum optimisation code allows the user to add penalty terms to the objective that penalise large curvature or torsion.\n",
    "\n",
    "Let's begin by setting up the objective."
   ]
  },
  {
   "cell_type": "code",
   "execution_count": null,
   "metadata": {},
   "outputs": [],
   "source": [
    "from pyplasmaopt import *\n",
    "nfp = 2\n",
    "(coils, currents, expansion_axis, eta_bar) = get_24_coil_data(Nt_coils=5, Nt_ma=5, nfp=nfp, ppp=10, at_optimum=False)\n",
    "stellarator = CoilCollection(coils, currents, nfp, True)\n",
    "iota_target = 0.103\n",
    "coil_length_target = 4.398229715025710\n",
    "magnetic_axis_length_target = 6.356206812106860\n",
    "eta_bar = -2.25\n",
    "\n",
    "obj = SimpleNearAxisQuasiSymmetryObjective(\n",
    "        stellarator, expansion_axis, iota_target, eta_bar=eta_bar,\n",
    "        coil_length_target=coil_length_target, magnetic_axis_length_target=magnetic_axis_length_target)"
   ]
  },
  {
   "cell_type": "markdown",
   "metadata": {},
   "source": [
    "Let's begin by running the optimisation without any regularisation."
   ]
  },
  {
   "cell_type": "code",
   "execution_count": null,
   "metadata": {},
   "outputs": [],
   "source": [
    "from scipy.optimize import minimize\n",
    "\n",
    "def scipy_fun(x):\n",
    "    obj.update(x)\n",
    "    res = obj.res\n",
    "    dres = obj.dres\n",
    "    return res, dres\n",
    "\n",
    "obj.clear_history()\n",
    "res = minimize(scipy_fun, obj.x0, jac=True, method='bfgs', tol=1e-20,\n",
    "               options={\"maxiter\": 1000},\n",
    "               callback=obj.callback)"
   ]
  },
  {
   "cell_type": "markdown",
   "metadata": {},
   "source": [
    "Let's have a look at the resulting Stellarator"
   ]
  },
  {
   "cell_type": "code",
   "execution_count": null,
   "metadata": {},
   "outputs": [],
   "source": [
    "plot_stellarator(stellarator, axis=expansion_axis)"
   ]
  },
  {
   "cell_type": "markdown",
   "metadata": {},
   "source": [
    "We can see that some of the coils have segments of high curvature."
   ]
  },
  {
   "cell_type": "markdown",
   "metadata": {},
   "source": [
    "## Tasks\n",
    "\n",
    "1) Let's quantify the simplicity of the coils. For a curve $\\Gamma: [0, 1) \\to \\mathbb{R}, \\phi\\mapsto \\Gamma(\\phi)$, look up the formula for the curvature of this curve. Then complete the function below to compute the curvature of a coil\n",
    "\n",
    "    def kappa(coil):\n",
    "        # array with shape (N, 3) giving the (x, y, z) coordinates of N points along the curve\n",
    "        gamma = coil.gamma\n",
    "        # array with shape (N, 3) giving the derivative of the curve \n",
    "        dgamma_by_dphi = = coil.dgamma_by_dphi[:, 0, :]at those same N points\n",
    "        # array with shape (N, 3) giving the second derivative of the curve at those same N points\n",
    "        d2gamma_by_dphidphi = = coil.dgamma_by_dphi[:, 0, 0, :]\n",
    "        \n",
    "        kappa = ???\n",
    "        \n",
    "        return kappa\n",
    "   \n",
    "You can check your code by computing the curvature of the initial coils. They should all have curvature $\\approx 1.42857143$. Now use this function to compute the maximum curvature on all 6 coils obtained from the unregularised optimisation.\n",
    "\n",
    "2) By setting `obj.curvature_weight = 1e-3` we can add a penalty on the curvature. Using the previous optimisation result as initial guess, what do the resulting coils look like, how small is the objective, and what is the maximum curvature of the coils?\n",
    "\n",
    "        \n",
    "\n",
    "2) Clearly there is a trade-off between simplicity of the coils and achieving quasi symmetry on axis. Run the optimisation for a range of curvature penalties. For each run, take note of the maximum curvature in the coils and the quasi-symmetry and iota misfit. The latter can be obtained via\n",
    "\n",
    "    obj.res1 + obj.res4\n",
    "    \n"
   ]
  },
  {
   "cell_type": "markdown",
   "metadata": {},
   "source": [
    "## Solutions"
   ]
  },
  {
   "cell_type": "markdown",
   "metadata": {},
   "source": [
    "### Task 1"
   ]
  },
  {
   "cell_type": "code",
   "execution_count": null,
   "metadata": {},
   "outputs": [],
   "source": [
    "def kappa(coil):\n",
    "    # array with shape (N, 3) giving the (x, y, z) coordinates of N points along the curve\n",
    "    gamma = coil.gamma\n",
    "    # array with shape (N, 3) giving the derivative of the curve at those same N points\n",
    "    dgamma_by_dphi = coil.dgamma_by_dphi[:, 0, :]\n",
    "    # array with shape (N, 3) giving the second derivative of the curve at those same N points\n",
    "    d2gamma_by_dphidphi = coil.d2gamma_by_dphidphi[:, 0, 0, :]\n",
    "\n",
    "    kappa = (np.linalg.norm(np.cross(dgamma_by_dphi, d2gamma_by_dphidphi), axis=1)/np.linalg.norm(dgamma_by_dphi, axis=1)**3)\n",
    "\n",
    "    return kappa"
   ]
  },
  {
   "cell_type": "code",
   "execution_count": null,
   "metadata": {},
   "outputs": [],
   "source": [
    "obj.update(obj.x0)\n",
    "print('Maximum curvature for each initial coil:\\n', [np.max(kappa(c)) for c in coils])\n",
    "obj.update(res.x)\n",
    "print('Maximum curvature for each optimised coil (without regularisation):\\n', [np.max(kappa(c)) for c in coils])"
   ]
  },
  {
   "cell_type": "markdown",
   "metadata": {},
   "source": [
    "### Task 2"
   ]
  },
  {
   "cell_type": "code",
   "execution_count": null,
   "metadata": {
    "scrolled": false
   },
   "outputs": [],
   "source": [
    "obj.curvature_weight = 1e-3\n",
    "obj.clear_history()\n",
    "res_reg = minimize(scipy_fun, res.x, jac=True, method='bfgs', tol=1e-20,\n",
    "                   options={\"maxiter\": 500},\n",
    "                   callback=obj.callback)"
   ]
  },
  {
   "cell_type": "code",
   "execution_count": null,
   "metadata": {},
   "outputs": [],
   "source": [
    "print('Maximum curvature for each optimised coil (with regularisation):\\n', [np.max(kappa(c)) for c in coils])"
   ]
  },
  {
   "cell_type": "markdown",
   "metadata": {},
   "source": [
    "### Task 3"
   ]
  },
  {
   "cell_type": "code",
   "execution_count": null,
   "metadata": {},
   "outputs": [],
   "source": [
    "qsmisfits = []\n",
    "maxcurvatures = []\n",
    "ws = [1e-9, 1e-8, 1e-7, 1e-6, 1e-5, 1e-4, 1e-3]\n",
    "xmins = []\n",
    "\n",
    "for w in ws:\n",
    "    obj.curvature_weight = w\n",
    "    obj.clear_history()\n",
    "    res_reg = minimize(scipy_fun, res.x, jac=True, method='bfgs', tol=1e-20,\n",
    "                       options={\"maxiter\": 1000, \"maxcor\": 100},\n",
    "                       callback=obj.callback)\n",
    "    qsmisfits.append(obj.res1 + obj.res4)\n",
    "    maxcurvatures.append(max(np.max(c.kappa) for c in coils))\n",
    "    xmins.append(res_reg.x.copy())"
   ]
  },
  {
   "cell_type": "code",
   "execution_count": null,
   "metadata": {},
   "outputs": [],
   "source": [
    "%matplotlib inline\n",
    "import matplotlib.pyplot as plt\n",
    "plt.semilogx(qsmisfits, maxcurvatures)\n",
    "plt.show()"
   ]
  }
 ],
 "metadata": {
  "kernelspec": {
   "display_name": "Python 3",
   "language": "python",
   "name": "python3"
  },
  "language_info": {
   "codemirror_mode": {
    "name": "ipython",
    "version": 3
   },
   "file_extension": ".py",
   "mimetype": "text/x-python",
   "name": "python",
   "nbconvert_exporter": "python",
   "pygments_lexer": "ipython3",
   "version": "3.7.7"
  }
 },
 "nbformat": 4,
 "nbformat_minor": 4
}
