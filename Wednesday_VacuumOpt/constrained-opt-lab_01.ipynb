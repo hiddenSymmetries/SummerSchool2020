{
 "cells": [
  {
   "cell_type": "code",
   "execution_count": null,
   "metadata": {
    "colab": {
     "base_uri": "https://localhost:8080/",
     "height": 1000
    },
    "colab_type": "code",
    "id": "wYPo1KYR_aLh",
    "outputId": "6025aeb7-bce5-443e-e550-2e39c2ce9cf1"
   },
   "outputs": [],
   "source": [
    "import sys\n",
    "!{sys.executable} -m pip install --upgrade numpy\n",
    "!{sys.executable} -m pip install plotly pandas\n",
    "!{sys.executable} -m pip install -vvv --no-cache-dir git+https://github.com/florianwechsung/PyPlasmaOpt@fw/riskaverse"
   ]
  },
  {
   "cell_type": "code",
   "execution_count": null,
   "metadata": {
    "colab": {},
    "colab_type": "code",
    "id": "wXMcrxnrPxnf"
   },
   "outputs": [],
   "source": [
    "from pyplasmaopt import *\n",
    "import logging\n",
    "logging.getLogger('PyPlasmaOpt').setLevel(40)"
   ]
  },
  {
   "cell_type": "markdown",
   "metadata": {
    "colab_type": "text",
    "id": "pbsZLkYBDJN0"
   },
   "source": [
    "## Magnetic axis optimization\n",
    "\n",
    "Assuming stellarator symmetry, the expansion axis in cylindrical coordinates $\\Gamma = (R,\\phi,Z)$ is written as a Fourier series, e.g. \n",
    "\n",
    "\\begin{align}\n",
    "R(\\phi) &= c_{0,R} + \\sum_{k = 1}^{N_f} c_{k,R} \\cos(2\\pi k \\phi), \\\\\n",
    "Z(\\phi) &= \\sum_{k = 1}^{N_f} s_{k,Z} \\sin(2\\pi k \\phi),\n",
    "\\end{align}\n",
    "where $\\phi \\in[0,1)$.  The $y$ and $z$ components of the curves are similarly defined.\n",
    "\n",
    "To illustrate this, let's an expansion axis.  Here, $N_f = 3$."
   ]
  },
  {
   "cell_type": "code",
   "execution_count": null,
   "metadata": {
    "colab": {
     "base_uri": "https://localhost:8080/",
     "height": 265
    },
    "colab_type": "code",
    "id": "BXKIHFVwPxnn",
    "outputId": "e455b1c2-c257-492f-a4d6-3cdf0fb3c568"
   },
   "outputs": [],
   "source": [
    "nf = 3\n",
    "nphi = 100\n",
    "axis = StelleratorSymmetricCylindricalFourierCurve(nf, 1, np.linspace(0, 1, nphi, endpoint=False))\n",
    "\n",
    "# The Fourier coefficients in axis.coefficients are organized as follows\n",
    "# coeffs = [ [c_{0,R}, c_{1,R}, c_{2,R}, c_{3,R}],\n",
    "#            [s_{1,z}, s_{2,z}, s_{3,z}]\n",
    "#          ]\n",
    "axis.coefficients[0][0] = 1.\n",
    "axis.coefficients[0][1] = 0.02\n",
    "axis.coefficients[0][2] = 0.02\n",
    "axis.coefficients[0][3] = 0.0\n",
    "\n",
    "axis.coefficients[1][0] = .01\n",
    "axis.coefficients[1][1] = .01\n",
    "axis.coefficients[1][2] =  .0\n",
    "axis.update()\n",
    "axis.plot()"
   ]
  },
  {
   "cell_type": "markdown",
   "metadata": {
    "colab_type": "text",
    "id": "5m0GRXOKFlyz"
   },
   "source": [
    "## Task 1\n",
    "\n",
    "Modify the Fourier coefficients in `axis` above to obtain a flat axis centered at the origin with radius 1, contained in the $xy$ plane."
   ]
  },
  {
   "cell_type": "markdown",
   "metadata": {
    "colab_type": "text",
    "id": "JzRi2KtqFsGI"
   },
   "source": [
    "# Let's compute the length of the axis\n",
    "\n",
    "The length of the axis is given by\n",
    "$$\n",
    "L = \\int^{1}_{0} ||\\Gamma'(\\phi)||_2 d\\phi.\n",
    "$$\n",
    "where $||\\Gamma'(\\phi)||_2$ is the norm of the coil tangent.\n",
    "We can compute the length by discretizing the above using the trapezoidal rule.  \n",
    "The length becomes\n",
    "$$\n",
    "L = \\frac{1}{N_{\\phi}} \\sum^{N_{\\phi}-1}_{k = 0}||\\Gamma'(\\phi_k)||_2,\n",
    "$$\n",
    "where $N_{\\phi}$ is the number of quadrature points and $\\phi_k = k/N_{\\phi}$.\n",
    "\n",
    "The function `CurveLength` computes the axis length in the same manner as the code in the `Lab00`."
   ]
  },
  {
   "cell_type": "code",
   "execution_count": null,
   "metadata": {
    "colab": {
     "base_uri": "https://localhost:8080/",
     "height": 34
    },
    "colab_type": "code",
    "id": "sg9gx_THFssO",
    "outputId": "5a345ded-1d2a-411d-cc56-9ec16daea952"
   },
   "outputs": [],
   "source": [
    "L = CurveLength(axis)\n",
    "print(L.J())"
   ]
  },
  {
   "cell_type": "markdown",
   "metadata": {
    "colab_type": "text",
    "id": "TDqsJIl8GP3L"
   },
   "source": [
    "## Task 2\n",
    "\n",
    "Verify that the length of the coil that you found in Task 1 is indeed computed to be $2\\pi$."
   ]
  },
  {
   "cell_type": "markdown",
   "metadata": {
    "colab_type": "text",
    "id": "jpnPTxa2HA1L"
   },
   "source": [
    "# Near-axis quasisymmetry \n",
    "\n",
    "Given the curve describing the expansion axis $(R, \\phi, Z)$, the rotational transform, $\\iota$, of a quasi-axisymmetric magnetic field solves the following periodic Ricatti equation\n",
    "  \\begin{equation*}\n",
    "    \\begin{aligned}\n",
    "      \\frac{|G_0|}{\\ell' B_0}\n",
    "      \\frac{d \\sigma}{d\\phi} + \\iota  \\left[ \\frac{\\overline{\\eta}^4}{\\kappa^4} + 1 + \\sigma^2 \\right]\n",
    "      + \\frac{2 G_0 \\overline{\\eta}^2 s_\\psi \\tau}{B_0 \\kappa^2} &=0, \\\\\n",
    "      \\sigma(0) &= 0,\n",
    "    \\end{aligned}\n",
    "  \\end{equation*}\n",
    "which depends on a free parameter $\\overline{\\eta}$, the expansion axis' torsion $\\tau$ and curvature $\\kappa$.  In order to compute the quasi-axisymmetric rotational transform $\\iota$, we must solve the above equation for both $\\sigma(\\phi)$ and $\\iota$.  For this lab, we are only interested in solving the above ODE for $\\iota$.  However, keep in mind that $\\sigma$ is used to obtain the quasisymmetric magnetic field on axis.  \n",
    "\n",
    "After discretization with a spectral method, the above periodic Ricatti equation becomes\n",
    "$$\n",
    "f(\\mathbf{c},\\overline{\\eta},\\iota) = 0.\n",
    "$$\n",
    "Thus, given the Fourier coefficients of the coils, $\\mathbf{c}$, we can solve this discretized equation for $\\sigma$ and $\\iota$.  This is done using `PyPlasmaOpt` below."
   ]
  },
  {
   "cell_type": "code",
   "execution_count": null,
   "metadata": {
    "colab": {
     "base_uri": "https://localhost:8080/",
     "height": 85
    },
    "colab_type": "code",
    "id": "RX3ubKYfHBVz",
    "outputId": "054e56bd-c702-4968-d0db-f758ba903474"
   },
   "outputs": [],
   "source": [
    "eta_bar = 2.\n",
    "qsf = QuasiSymmetricField(eta_bar, axis)\n",
    "sigma, iota, _ = qsf.solve_state()\n",
    "print(iota)"
   ]
  },
  {
   "cell_type": "markdown",
   "metadata": {
    "colab_type": "text",
    "id": "PCQWFuJgLDNR"
   },
   "source": [
    "# A simple objective function\n",
    "\n",
    "Let's try and find an axis geometry and a value for $\\overline{\\eta}$ that results in a target rotational transform, $\\iota_0$, with a prescribed axis length $L_0$.  That is, we want to solve\n",
    "\\begin{align}\n",
    "&\\text{min}_{\\mathbf{c},\\overline{\\eta}} ~ \\frac{1}{2}(\\iota - \\iota_0)^2 + \\frac{1}{2}(L(\\mathbf{c})-L_{0})^2 \\\\\n",
    "& \\text{subject to } \\mathbf{f}(\\mathbf{c},\\overline{\\eta},\\iota) = 0,\n",
    "\\end{align}\n",
    "\n",
    "where $\\mathbf{c}$ is the vector of Fourier coefficients of the expansion axis.  That is, we are interested in finding the geometry of the expansion axis that produces a target rotational transform $\\iota_0$ and has a target length $L_{0}$. Let's construct the objective function above as well as its gradient with respect to $\\mathbf{c}$ and $\\overline{\\eta}$.\n",
    "\n",
    "\n",
    "The `QuasiSymmetricField` class solves for the sensitivity of $\\iota$ with respect to the expansion axis design parameters."
   ]
  },
  {
   "cell_type": "code",
   "execution_count": null,
   "metadata": {
    "colab": {},
    "colab_type": "code",
    "id": "Q6JlOyRrMFAJ"
   },
   "outputs": [],
   "source": [
    "def pack_dofs(eta_bar, axis):\n",
    "  x = np.zeros( axis.num_coeff() + 1)\n",
    "  x[0] = eta_bar\n",
    "  x[1:] = axis.get_dofs()\n",
    "  return x\n",
    "\n",
    "def J(x):\n",
    "  eb = x[0]\n",
    "  axis.set_dofs(x[1:])\n",
    "  qsf.eta_bar = eb\n",
    "  qsf.clear()\n",
    "  L = CurveLength(axis).J()\n",
    "  \n",
    "  iota = qsf.iota\n",
    "  \n",
    "  return 0.5*(iota-iota_0)**2 + 0.5*(L-L_0)**2\n",
    "\n",
    "def dJ(x):\n",
    "  eb = x[0]\n",
    "  axis.set_dofs(x[1:])\n",
    "  qsf.eta_bar = eb\n",
    "  qsf.clear()\n",
    "\n",
    "  iota = qsf.iota\n",
    "  L = CurveLength(axis).J()\n",
    "\n",
    "  diota_by_dcoeffs = np.concatenate(qsf.diota_by_dcoeffs)\n",
    "  dL_by_dcoeffs = CurveLength(axis).dJ_by_dcoefficients()\n",
    "  diota_by_detabar = qsf.diota_by_detabar\n",
    "  \n",
    "  return np.concatenate( ( (iota-iota_0)*diota_by_detabar[0] ,(iota-iota_0)*diota_by_dcoeffs + (L-L_0)*dL_by_dcoeffs) )"
   ]
  },
  {
   "cell_type": "markdown",
   "metadata": {
    "colab_type": "text",
    "id": "7Kho_OuKR8PQ"
   },
   "source": [
    "# Taylor Test\n",
    "\n",
    "Verify your implementation of the objective function `J` and its gradient `dJ` by doing a Taylor test.  In the code below, we are computing the directional derivative of $J$ in a random direction $h$ using a finite difference stencil of various orders of accuracy.  Then, we are comparing the finite difference directional derivative with the analytical directional derivative computed by the `PyPl. This is a standard way of verifying that the gradient has been correctly implemented.\n",
    "\n",
    "## Task 3\n",
    "\n",
    "Interpret the error versus finite difference stepsize plot below."
   ]
  },
  {
   "cell_type": "code",
   "execution_count": null,
   "metadata": {
    "colab": {
     "base_uri": "https://localhost:8080/",
     "height": 402
    },
    "colab_type": "code",
    "id": "jKB3ZQ9iPDlX",
    "outputId": "61011f16-b909-406b-9a27-970af794bd35"
   },
   "outputs": [],
   "source": [
    "L_0 = 2*np.pi\n",
    "iota_0 = 0.3\n",
    "\n",
    "eta_bar = 2.00054591\n",
    "x = pack_dofs(eta_bar, axis)\n",
    "\n",
    "\n",
    "np.random.seed(0)\n",
    "h = np.random.rand(x.shape[0])\n",
    "h = h/np.linalg.norm(h)\n",
    "\n",
    "j = J(x)\n",
    "dj = dJ(x)\n",
    "dj_exact = np.dot(h,dj)\n",
    "\n",
    "error = np.zeros((4, 30))\n",
    "eps_list = 0.5**np.array(range(10,40))\n",
    "for i,order in enumerate([1, 2, 4]):\n",
    "    if order == 1: # first order forward difference.\n",
    "        shifts = [0, 1]\n",
    "        weights = [-1, 1]\n",
    "    elif order == 2: # second order central difference.\n",
    "        shifts = [-1, 1]\n",
    "        weights = [-0.5, 0.5]\n",
    "    elif order == 4: # fourth order central difference.\n",
    "        shifts = [-2, -1, 1, 2]\n",
    "        weights = [1/12, -2/3, 2/3, -1/12]\n",
    "\n",
    "\n",
    "    \n",
    "    dj_fd = 0\n",
    "    for ii in range(10, 40):\n",
    "        eps = 0.5**ii\n",
    "        \n",
    "        dj_fd = 0\n",
    "        for s,w in zip(shifts,weights):\n",
    "            dj_fd = dj_fd + w*J(x+s*eps*h)\n",
    "        dj_fd = dj_fd / eps\n",
    "        error[i, ii-10] = np.abs( dj_fd - dj_exact )\n",
    "\n",
    "%matplotlib inline\n",
    "import matplotlib.pyplot as plt\n",
    "fig = plt.figure()\n",
    "for ii in range(3):\n",
    "    plt.loglog(eps_list, error[ii,:])\n",
    "plt.grid()\n",
    "plt.xlabel('Step size')\n",
    "plt.ylabel('Error')\n",
    "plt.legend(['First order', 'Second order', 'Fourth order'])"
   ]
  },
  {
   "cell_type": "markdown",
   "metadata": {
    "colab_type": "text",
    "id": "AygWdgDXSp1_"
   },
   "source": [
    "# Solve the optimization problem\n",
    "\n",
    "Now that we have verified that the gradient is correctly implemented, let's solve the optimization problem.  That is, let's find an axis with length $2\\pi$ and a target rotational transform of $\\iota_0 = 0.1$.\n",
    "\n",
    "## Task 4\n",
    "Comment on the value of the objective function and the norm of the gradient."
   ]
  },
  {
   "cell_type": "code",
   "execution_count": null,
   "metadata": {
    "colab": {
     "base_uri": "https://localhost:8080/",
     "height": 503
    },
    "colab_type": "code",
    "id": "uHyHiNR2cHev",
    "outputId": "74cc80a2-1d65-4926-bc0f-b171318cd8be"
   },
   "outputs": [],
   "source": [
    "from scipy.optimize import minimize\n",
    "def scipy_fun(x):\n",
    "    res = J(x)\n",
    "    dres = dJ(x)    \n",
    "    return res, dres\n",
    "\n",
    "L_0 = 2*np.pi\n",
    "iota_0 = 0.1\n",
    "\n",
    "x = pack_dofs(eta_bar, axis)\n",
    "\n",
    "j,dj = scipy_fun(x)\n",
    "\n",
    "print(j,np.linalg.norm(dj))\n",
    "res = minimize(scipy_fun, x, jac=True, method='bfgs', tol=1e-10)\n",
    "j,dj = scipy_fun(res.x)\n",
    "print(j,np.linalg.norm(dj))\n",
    "\n",
    "axis.set_dofs(res.x[1::])\n",
    "axis.plot()"
   ]
  }
 ],
 "metadata": {
  "colab": {
   "collapsed_sections": [],
   "name": "constrained-opt-lab-01.ipynb",
   "provenance": []
  },
  "kernelspec": {
   "display_name": "Python 3",
   "language": "python",
   "name": "python3"
  },
  "language_info": {
   "codemirror_mode": {
    "name": "ipython",
    "version": 3
   },
   "file_extension": ".py",
   "mimetype": "text/x-python",
   "name": "python",
   "nbconvert_exporter": "python",
   "pygments_lexer": "ipython3",
   "version": "3.6.4"
  }
 },
 "nbformat": 4,
 "nbformat_minor": 1
}
