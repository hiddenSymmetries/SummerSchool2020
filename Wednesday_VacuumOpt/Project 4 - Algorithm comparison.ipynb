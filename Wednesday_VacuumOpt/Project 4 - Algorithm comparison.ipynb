{
 "cells": [
  {
   "cell_type": "markdown",
   "metadata": {},
   "source": [
    "# Project 4 - Algorithm comparison and local minima"
   ]
  },
  {
   "cell_type": "code",
   "execution_count": null,
   "metadata": {},
   "outputs": [],
   "source": [
    "# Lets begin by setting up our toy problem again.\n",
    "from pyplasmaopt import *\n",
    "nfp = 2\n",
    "(coils, currents, magnetic_axis, eta_bar) = get_24_coil_data(nfp=nfp, ppp=10, at_optimum=False)\n",
    "stellarator = CoilCollection(coils, currents, nfp, True)\n",
    "iota_target = 0.103\n",
    "coil_length_target = 4.398229715025710\n",
    "magnetic_axis_length_target = 6.356206812106860\n",
    "eta_bar = -2.25\n",
    "obj = SimpleNearAxisQuasiSymmetryObjective(\n",
    "        stellarator, magnetic_axis, iota_target, eta_bar=eta_bar,\n",
    "        coil_length_target=coil_length_target, magnetic_axis_length_target=magnetic_axis_length_target)"
   ]
  },
  {
   "cell_type": "markdown",
   "metadata": {},
   "source": [
    "## Tasks\n",
    "\n",
    "1) So far we have always used the BFGS optimisation algorithm. Using the scipy `minimize` function, compare the BFGS algorithm with `CG`, `Nelder-Mead` and `L-BFGS-B` with memory 10 and 1 (scipy doesn't implement pure gradient descent, so we use L-BFGS with a short memory as an approximation). Plot the objective values during the optimisation and compare. To save some time, you can just run each optimisation algorithm for 500 iterations.\n",
    "\n",
    "2) We can not prove uniqueness of minimizers of our objective, nor do we expect it. To find distinct minimizers, a common strategy is to start the optimisation at different initial guesses. Consider several random perturbations of the initial configuration and check if the optimisation algorithm converges to the same configuration.\n",
    "_Suggestion_: Consider perturbations of the Fourier coefficients that describe the coils. You can obtain the indices in the dof vector `x` that correspond to the coil coeffients via `idx = list(range(*obj.coil_dof_idxs))`. Draw random numbers in the interval `[-0.1, +0.1]` and perturb the Fourier coefficients with these values."
   ]
  },
  {
   "cell_type": "markdown",
   "metadata": {},
   "source": [
    "## Solutions"
   ]
  },
  {
   "cell_type": "markdown",
   "metadata": {},
   "source": [
    "### Task 1"
   ]
  },
  {
   "cell_type": "code",
   "execution_count": null,
   "metadata": {},
   "outputs": [],
   "source": [
    "from scipy.optimize import minimize\n",
    "\n",
    "def scipy_fun(x):\n",
    "    obj.update(x)\n",
    "    res = obj.res\n",
    "    dres = obj.dres\n",
    "    return res, dres\n",
    "\n",
    "methods = [\n",
    "    'l-bfgs-b',\n",
    "    'l-bfgs-b',\n",
    "    'bfgs',\n",
    "    'cg',\n",
    "    'nelder-mead'\n",
    "]\n",
    "options = [\n",
    "    {'maxcor': 10},\n",
    "    {'maxcor': 1},\n",
    "    {},\n",
    "    {},\n",
    "    {}\n",
    "]\n",
    "labels = [\n",
    "    'L-BFGS-B (10)',\n",
    "    'L-BFGS-B (1)',\n",
    "    'BFGS',\n",
    "    'CG',\n",
    "    'Nelder-Mead'\n",
    "]\n",
    "\n",
    "results = {}\n",
    "for i in range(len(methods)):\n",
    "    obj.clear_history()\n",
    "    res = minimize(scipy_fun, obj.x0, jac=True, method=methods[i], tol=1e-20,\n",
    "                   options={**{\"maxiter\": 500}, **options[i]},\n",
    "                   callback=obj.callback)\n",
    "    print(res)\n",
    "    results[labels[i]] = obj.Jvals"
   ]
  },
  {
   "cell_type": "code",
   "execution_count": null,
   "metadata": {},
   "outputs": [],
   "source": [
    "%matplotlib inline\n",
    "import matplotlib.pyplot as plt\n",
    "for l in labels:\n",
    "    plt.semilogy(results[l], label=l)\n",
    "plt.legend()\n",
    "plt.show()"
   ]
  },
  {
   "cell_type": "markdown",
   "metadata": {},
   "source": [
    "### Task 2"
   ]
  },
  {
   "cell_type": "code",
   "execution_count": null,
   "metadata": {},
   "outputs": [],
   "source": [
    "x0 = obj.x0\n",
    "x0_perturb = x0.copy()\n",
    "idx = list(range(*obj.coil_dof_idxs))\n",
    "np.random.seed(1)\n",
    "x0_perturb[idx] += np.random.uniform(low=-0.1, high=0.1, size=len(idx))\n",
    "obj.update(x0_perturb)\n",
    "plot_stellarator(obj.stellarator)"
   ]
  },
  {
   "cell_type": "code",
   "execution_count": null,
   "metadata": {},
   "outputs": [],
   "source": [
    "obj.clear_history()\n",
    "res = minimize(scipy_fun, x0_perturb, jac=True, method='bfgs', tol=1e-20,\n",
    "               options={\"maxiter\": 500},\n",
    "               callback=obj.callback)\n"
   ]
  },
  {
   "cell_type": "code",
   "execution_count": null,
   "metadata": {},
   "outputs": [],
   "source": [
    "plot_stellarator(stellarator) "
   ]
  },
  {
   "cell_type": "markdown",
   "metadata": {},
   "source": [
    "Let's run the optimisation from the unperturbed initial guess to see if it looks identical."
   ]
  },
  {
   "cell_type": "code",
   "execution_count": null,
   "metadata": {},
   "outputs": [],
   "source": [
    "obj.clear_history()\n",
    "res = minimize(scipy_fun, obj.x0, jac=True, method='bfgs', tol=1e-20,\n",
    "               options={\"maxiter\": 500},\n",
    "               callback=obj.callback)"
   ]
  },
  {
   "cell_type": "code",
   "execution_count": null,
   "metadata": {},
   "outputs": [],
   "source": [
    "plot_stellarator(stellarator) "
   ]
  },
  {
   "cell_type": "markdown",
   "metadata": {},
   "source": [
    "*Looks quite different!*"
   ]
  }
 ],
 "metadata": {
  "kernelspec": {
   "display_name": "Python 3",
   "language": "python",
   "name": "python3"
  },
  "language_info": {
   "codemirror_mode": {
    "name": "ipython",
    "version": 3
   },
   "file_extension": ".py",
   "mimetype": "text/x-python",
   "name": "python",
   "nbconvert_exporter": "python",
   "pygments_lexer": "ipython3",
   "version": "3.7.7"
  }
 },
 "nbformat": 4,
 "nbformat_minor": 4
}
