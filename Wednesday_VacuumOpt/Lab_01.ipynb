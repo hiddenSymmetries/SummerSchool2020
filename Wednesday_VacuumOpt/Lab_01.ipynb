{
 "cells": [
  {
   "cell_type": "markdown",
   "metadata": {},
   "source": [
    "# Lab 1: Vacuum field optimisation\n",
    "\n",
    "Let's begin by installing the necessary dependencies"
   ]
  },
  {
   "cell_type": "code",
   "execution_count": null,
   "metadata": {},
   "outputs": [],
   "source": [
    "import sys\n",
    "!{sys.executable} -m pip install --upgrade numpy scipy\n",
    "!{sys.executable} -m pip install plotly pandas\n",
    "!{sys.executable} -m pip install -vvv --no-cache-dir git+https://github.com/florianwechsung/PyPlasmaOpt@fw/riskaverse"
   ]
  },
  {
   "cell_type": "code",
   "execution_count": null,
   "metadata": {},
   "outputs": [],
   "source": [
    "from pyplasmaopt import *"
   ]
  },
  {
   "cell_type": "markdown",
   "metadata": {},
   "source": [
    "Now we can start by setting up a first simple optimisation problem"
   ]
  },
  {
   "cell_type": "code",
   "execution_count": null,
   "metadata": {},
   "outputs": [],
   "source": [
    "nfp = 2 # number of rotations\n",
    "ppp = 20 # number of quadrature points per fourier period\n",
    "# let's get some initial data\n",
    "(coils, currents, expansion_axis, eta_bar) = get_24_coil_data(nfp=nfp, ppp=ppp, at_optimum=False)\n",
    "# and now let's turn this into a Stellarator\n",
    "stellarator = CoilCollection(coils, currents, nfp, True)"
   ]
  },
  {
   "cell_type": "code",
   "execution_count": null,
   "metadata": {},
   "outputs": [],
   "source": [
    "# Specify a target iota and target lengths for the coils and the axis\n",
    "iota_target = 0.103\n",
    "coil_length_target = 4.398229715025710\n",
    "magnetic_axis_length_target = 6.356206812106860\n",
    "# and lastly, let's pick an initial guess for eta_bar\n",
    "eta_bar = -2.25"
   ]
  },
  {
   "cell_type": "markdown",
   "metadata": {},
   "source": [
    "Now we're ready to build our objective"
   ]
  },
  {
   "cell_type": "code",
   "execution_count": null,
   "metadata": {},
   "outputs": [],
   "source": [
    "obj = SimpleNearAxisQuasiSymmetryObjective(\n",
    "        stellarator, expansion_axis, iota_target, eta_bar=eta_bar,\n",
    "        coil_length_target=coil_length_target, magnetic_axis_length_target=magnetic_axis_length_target)"
   ]
  },
  {
   "cell_type": "markdown",
   "metadata": {},
   "source": [
    "The objective can be evaluated at a point `x` by calling\n",
    "    \n",
    "    obj.update(x)\n"
   ]
  },
  {
   "cell_type": "code",
   "execution_count": null,
   "metadata": {},
   "outputs": [],
   "source": [
    "x = obj.x0\n",
    "obj.update(x)\n",
    "print('f(x) =', obj.res)\n",
    "print('gradf(x) =', obj.dres)"
   ]
  },
  {
   "cell_type": "markdown",
   "metadata": {},
   "source": [
    "We can plot the coils of stellarator and the expansion axis using the `plot_stellarator` function."
   ]
  },
  {
   "cell_type": "code",
   "execution_count": null,
   "metadata": {},
   "outputs": [],
   "source": [
    "plot_stellarator(stellarator, axis=expansion_axis)"
   ]
  },
  {
   "cell_type": "markdown",
   "metadata": {},
   "source": [
    "## Tasks\n",
    "After calling `obj.update(x)` the objective value at `x` is stored in `obj.res` and the gradient is stored in `obj.dres`.\n",
    "\n",
    "1) Look at the documentation for the `minimize` function in `scipy.optimize` and use the `BFGS` algorithm to solve the optimisation problem. You can use the `obj.callback()` function to obtain output as the optimisation progresses.\n",
    "\n",
    "2) Plot the resulting coils. How do they differ from the initial coils?\n",
    "\n",
    "3) Plot the objective function throughout the optimisation."
   ]
  },
  {
   "cell_type": "markdown",
   "metadata": {},
   "source": [
    "## Solution"
   ]
  },
  {
   "cell_type": "markdown",
   "metadata": {},
   "source": [
    "### Task 1"
   ]
  },
  {
   "cell_type": "code",
   "execution_count": null,
   "metadata": {},
   "outputs": [],
   "source": [
    "from scipy.optimize import minimize\n",
    "\n",
    "Jvals = []\n",
    "\n",
    "def scipy_fun(x):\n",
    "    obj.update(x)\n",
    "    res = obj.res\n",
    "    Jvals.append(res)\n",
    "    dres = obj.dres\n",
    "    return res, dres\n",
    "\n",
    "res = minimize(scipy_fun, x, jac=True, method='bfgs', tol=1e-20,\n",
    "               options={\"maxiter\": 200},\n",
    "               callback=obj.callback)"
   ]
  },
  {
   "cell_type": "markdown",
   "metadata": {},
   "source": [
    "### Task 2"
   ]
  },
  {
   "cell_type": "code",
   "execution_count": null,
   "metadata": {},
   "outputs": [],
   "source": [
    "plot_stellarator(stellarator, axis=expansion_axis)"
   ]
  },
  {
   "cell_type": "markdown",
   "metadata": {},
   "source": [
    "### Task 3"
   ]
  },
  {
   "cell_type": "code",
   "execution_count": null,
   "metadata": {},
   "outputs": [],
   "source": [
    "%matplotlib inline\n",
    "import matplotlib.pyplot as plt\n",
    "plt.semilogy(Jvals)"
   ]
  },
  {
   "cell_type": "markdown",
   "metadata": {},
   "source": [
    "Note: is you use the callback as above, the function evaluations at the _accepted_ optimisation iterates are stored in `obj.Jvals`. That way you obtain a monotone curve in the plot. Before running a new optimisation problem, you can clear this array by calling `obj.clear_history()`."
   ]
  },
  {
   "cell_type": "code",
   "execution_count": null,
   "metadata": {},
   "outputs": [],
   "source": [
    "%matplotlib inline\n",
    "import matplotlib.pyplot as plt\n",
    "plt.semilogy(obj.Jvals)"
   ]
  }
 ],
 "metadata": {
  "kernelspec": {
   "display_name": "Python 3",
   "language": "python",
   "name": "python3"
  },
  "language_info": {
   "codemirror_mode": {
    "name": "ipython",
    "version": 3
   },
   "file_extension": ".py",
   "mimetype": "text/x-python",
   "name": "python",
   "nbconvert_exporter": "python",
   "pygments_lexer": "ipython3",
   "version": "3.6.4"
  }
 },
 "nbformat": 4,
 "nbformat_minor": 4
}
