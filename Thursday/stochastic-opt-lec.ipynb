{
 "cells": [
  {
   "cell_type": "markdown",
   "metadata": {},
   "source": [
    "# Constrained optimization"
   ]
  },
  {
   "cell_type": "code",
   "execution_count": 3,
   "metadata": {},
   "outputs": [],
   "source": [
    "import numpy as np\n",
    "import scipy\n",
    "import matplotlib.pyplot as plt"
   ]
  },
  {
   "cell_type": "markdown",
   "metadata": {},
   "source": [
    "## Basic setup\n",
    "\n",
    "We consider a smooth objective/cost function $\\phi:\\mathbb R^n\\times \\mathbb R^r\\to \\mathbb R$ that depends on design/control parameters $x$ and random parameters $\\xi$:\n",
    "\n",
    "$$\n",
    "  \\phi(x,\\xi)\n",
    "$$\n",
    "\n",
    "We cannot directly optimize over $x$ as that function still depends on the random variable $\\xi$ which follows a distribution. \n",
    "Below, we discuss some aspects of stochastic optimization:\n",
    "\n",
    "- Scalarization: risk-neutral, risk-averse and robust\n",
    "\n",
    "For fixed $x$, we can take random draws from the distribution $\\phi(x,\\xi)$ and plot the resulting as a histogram. This is commonly known as the stochastic average approximation (SAA). "
   ]
  },
  {
   "cell_type": "markdown",
   "metadata": {},
   "source": [
    "##  Simple model problem\n",
    "\n",
    "Let's look at a simple model function where $x=(x_1,x_2)$ and $\\xi=(\\xi_1,\\xi_2)$ is a random variable:\n",
    "\n",
    "$$\n",
    "    \\phi(x,\\xi):= (1+\\xi_1)*x_1^2 - x_2 - \\log(-x_2) + \\xi_2^2\n",
    "$$\n"
   ]
  },
  {
   "cell_type": "code",
   "execution_count": 17,
   "metadata": {},
   "outputs": [],
   "source": [
    "def phi(x1,x2,xi1,xi2):\n",
    "    \"Objective involving uncertainties xi1, xi2\"\n",
    "    return (1+xi1)*x1**2 - x2 - np.log(-x2) + xi2**2\n"
   ]
  },
  {
   "cell_type": "code",
   "execution_count": 43,
   "metadata": {},
   "outputs": [
    {
     "name": "stdout",
     "output_type": "stream",
     "text": [
      "Pmean: 2.0822903443373653\n",
      "Pvar: 0.009020502040906056\n",
      "Pmax: 2.333847215590718\n"
     ]
    },
    {
     "data": {
      "image/png": "[encoded data removed]",
      "text/plain": [
       "<Figure size 432x288 with 1 Axes>"
      ]
     },
     "metadata": {
      "needs_background": "light"
     },
     "output_type": "display_data"
    }
   ],
   "source": [
    "def plot_phi(x1,x2):\n",
    "    \"Draw histogram for fixed x1,x2\"\n",
    "    \"Distribution of xi\"\n",
    "    no_samp = 1000\n",
    "    XI1 = np.random.uniform(-0.1,0.1,no_samp)\n",
    "    XI2 = np.random.uniform(-0.5,0.5,no_samp)\n",
    "    #XI2 = np.random.normal(0,0.3,no_samp)\n",
    "    P = phi(x1,x2,XI1,XI2)\n",
    "    P_mean = np.mean(P)\n",
    "    P_var = np.var(P)\n",
    "    P_max = np.amax(P)\n",
    "    print('Pmean:',P_mean)\n",
    "    print('Pvar:',P_var)\n",
    "    print('Pmax:',P_max)\n",
    "    print\n",
    "    count, bins, ignored = plt.hist(P, 15, density=True)\n",
    "    plt.xlabel('objective value')\n",
    "    plt.show()\n",
    "    \n",
    "plot_phi(1,-1)\n"
   ]
  },
  {
   "cell_type": "markdown",
   "metadata": {},
   "source": [
    "## Objectives for optimization\n",
    "\n",
    "From this sampled distribution, we can compute various scalar quantities that we can in a minimization over $x$, which we kept fixed above:\n",
    "\n",
    "For fixed $x$, we can consider:\n",
    "\n",
    "1. **Risk-neutral** formulation: Take expectation over $\\xi$:\n",
    "\n",
    "    $$\n",
    "    \\min_{x} \\mathbb E_{\\xi} \\phi(x,\\xi)\n",
    "    $$\n",
    "\n",
    "2. **Risk-averse** formulations: Avoid poor outcomes, e.g.,\n",
    "    keep variance small:\n",
    "    \n",
    "    $$\n",
    "    \\min_{x} \\mathbb E_{\\xi} \\phi(x,\\xi) + \\mathbb\n",
    "    V_{\\xi}\\phi(x,\\xi)\n",
    "    $$\n",
    "    \n",
    "3. **Robust** formulations: Minimize worst outcome (no risk!)\n",
    "    \n",
    "    $$\n",
    "    \\min_{x} \\max_{\\xi} \\phi(x,\\xi)\n",
    "    $$\n"
   ]
  },
  {
   "cell_type": "code",
   "execution_count": 36,
   "metadata": {},
   "outputs": [
    {
     "ename": "NameError",
     "evalue": "name 'P' is not defined",
     "output_type": "error",
     "traceback": [
      "\u001b[0;31m---------------------------------------------------------------------------\u001b[0m",
      "\u001b[0;31mNameError\u001b[0m                                 Traceback (most recent call last)",
      "\u001b[0;32m<ipython-input-36-2a09fa545280>\u001b[0m in \u001b[0;36m<module>\u001b[0;34m\u001b[0m\n\u001b[0;32m----> 1\u001b[0;31m \u001b[0mP_mean\u001b[0m \u001b[0;34m=\u001b[0m \u001b[0mnp\u001b[0m\u001b[0;34m.\u001b[0m\u001b[0mmean\u001b[0m\u001b[0;34m(\u001b[0m\u001b[0mP\u001b[0m\u001b[0;34m)\u001b[0m\u001b[0;34m\u001b[0m\u001b[0;34m\u001b[0m\u001b[0m\n\u001b[0m\u001b[1;32m      2\u001b[0m \u001b[0mP_var\u001b[0m \u001b[0;34m=\u001b[0m \u001b[0mnp\u001b[0m\u001b[0;34m.\u001b[0m\u001b[0mvar\u001b[0m\u001b[0;34m(\u001b[0m\u001b[0mP\u001b[0m\u001b[0;34m)\u001b[0m\u001b[0;34m\u001b[0m\u001b[0;34m\u001b[0m\u001b[0m\n\u001b[1;32m      3\u001b[0m \u001b[0mP_max\u001b[0m \u001b[0;34m=\u001b[0m \u001b[0mnp\u001b[0m\u001b[0;34m.\u001b[0m\u001b[0mmaximum\u001b[0m\u001b[0;34m(\u001b[0m\u001b[0mP\u001b[0m\u001b[0;34m)\u001b[0m\u001b[0;34m\u001b[0m\u001b[0;34m\u001b[0m\u001b[0m\n",
      "\u001b[0;31mNameError\u001b[0m: name 'P' is not defined"
     ]
    }
   ],
   "source": [
    "\n"
   ]
  }
 ],
 "metadata": {
  "kernelspec": {
   "display_name": "Python 3",
   "language": "python",
   "name": "python3"
  },
  "language_info": {
   "codemirror_mode": {
    "name": "ipython",
    "version": 3
   },
   "file_extension": ".py",
   "mimetype": "text/x-python",
   "name": "python",
   "nbconvert_exporter": "python",
   "pygments_lexer": "ipython3",
   "version": "3.7.3"
  }
 },
 "nbformat": 4,
 "nbformat_minor": 4
}
