{
 "cells": [
  {
   "cell_type": "code",
   "execution_count": null,
   "metadata": {},
   "outputs": [],
   "source": [
    "# Lets begin by setting up our toy problem again.\n",
    "from pyplasmaopt import *\n",
    "nfp = 2\n",
    "(coils, currents, magnetic_axis, eta_bar) = get_24_coil_data(nfp=nfp, ppp=10, at_optimum=False)\n",
    "stellarator = CoilCollection(coils, currents, nfp, True)"
   ]
  },
  {
   "cell_type": "markdown",
   "metadata": {},
   "source": [
    "PyPlasmaOpt makes is easy to create pertubed coils. Perturbations are governed by two user parameters:\n",
    "- a length scale for the perbutation (short = high frequence perturbance, long=low frequence pertubations)\n",
    "- a magnitude of the perturbation.\n",
    "Below you can see a snipped of code that creates a pertubed coil and first plots the x, y, and z component of the pertubation and the plots the actual perturbed coil."
   ]
  },
  {
   "cell_type": "code",
   "execution_count": null,
   "metadata": {},
   "outputs": [],
   "source": [
    "length_scale_perturb = 0.05 # play with parameter \n",
    "sigma_perturb = 0.1 # and with this one too\n",
    "n_derivs = 1 # Set to 1 for faster experimentation, later we need to set this to 3 \n",
    "             # (since we also need the tangent, curvature and torsion of the perturbed coils).\n",
    "sampler = GaussianSampler(coils[0].points, length_scale=length_scale_perturb,\n",
    "                          sigma=sigma_perturb, n_derivs=n_derivs)\n",
    "\n",
    "process = sampler.sample()[0]\n",
    "%matplotlib inline\n",
    "import matplotlib.pyplot as plt\n",
    "# Let's have a look at the three components of the pertubation.\n",
    "plt.plot(process)\n",
    "plt.show()\n",
    "# And now let's create a perturbed coil.\n",
    "perturbed_coil = GaussianPerturbedCurve(stellarator.coils[0], sampler)\n",
    "ax = stellarator.coils[0].plot(show=False)\n",
    "perturbed_coil.plot(ax=ax, show=True)"
   ]
  },
  {
   "cell_type": "markdown",
   "metadata": {},
   "source": [
    "## Task 1:\n",
    "Modify `length_scale_perturb` and `sigma_perturb` and observe the effect on the resulting pertubation."
   ]
  },
  {
   "cell_type": "markdown",
   "metadata": {},
   "source": [
    "We will now create a series of perturbed stellarators and create an objective for each of these perturbations."
   ]
  },
  {
   "cell_type": "code",
   "execution_count": null,
   "metadata": {},
   "outputs": [],
   "source": [
    "iota_target = 0.103\n",
    "coil_length_target = 4.398229715025710\n",
    "magnetic_axis_length_target = 6.356206812106860\n",
    "eta_bar = -2.25\n",
    "(coils, currents, magnetic_axis, eta_bar) = get_24_coil_data(nfp=nfp, ppp=10, at_optimum=False)\n",
    "stellarator = CoilCollection(coils, currents, nfp, True)\n",
    "det_objective = SimpleNearAxisQuasiSymmetryObjective(\n",
    "        stellarator, magnetic_axis, iota_target, eta_bar=eta_bar,\n",
    "        coil_length_target=coil_length_target,\n",
    "        magnetic_axis_length_target=magnetic_axis_length_target)\n",
    "\n",
    "sampler = GaussianSampler(coils[0].points, length_scale=0.2, sigma=0.003, n_derivs=3)\n",
    "nsamples = 25\n",
    "objectives = []    \n",
    "for i in range(nsamples):\n",
    "    (coils, currents, magnetic_axis, eta_bar) = get_24_coil_data(nfp=nfp, ppp=10, at_optimum=False)\n",
    "    stellarator = CoilCollection(coils, currents, nfp, True)\n",
    "    stellarator.coils = [GaussianPerturbedCurve(coil, sampler) for coil in stellarator.coils]\n",
    "    objectives.append(\n",
    "        SimpleNearAxisQuasiSymmetryObjective(\n",
    "            stellarator, magnetic_axis, iota_target, eta_bar=eta_bar,\n",
    "            coil_length_target=coil_length_target,\n",
    "            magnetic_axis_length_target=magnetic_axis_length_target))\n"
   ]
  },
  {
   "cell_type": "markdown",
   "metadata": {},
   "source": [
    "Before doing any stochastic optimisation, we first run the deterministic optimisation and then evaluate the objective for each of the perturbed stellarators at the obtained minimum."
   ]
  },
  {
   "cell_type": "code",
   "execution_count": null,
   "metadata": {},
   "outputs": [],
   "source": [
    "from scipy.optimize import minimize\n",
    "def scipy_fun(x):\n",
    "    det_objective.update(x)\n",
    "    res = det_objective.res\n",
    "    dres = det_objective.dres\n",
    "    return res, dres\n",
    "\n",
    "res = minimize(scipy_fun, det_objective.x0, jac=True, method='bfgs', tol=1e-20,\n",
    "               options={\"maxiter\": 500},\n",
    "               callback=det_objective.callback)\n",
    "vals = []\n",
    "for obj in objectives:\n",
    "    obj.update(res.x)\n",
    "    vals.append(obj.res)\n",
    "print(vals)"
   ]
  },
  {
   "cell_type": "code",
   "execution_count": null,
   "metadata": {
    "scrolled": true
   },
   "outputs": [],
   "source": [
    "plt.hist(vals)\n",
    "plt.show()\n",
    "print('Mean objective', np.mean(vals))"
   ]
  },
  {
   "cell_type": "markdown",
   "metadata": {},
   "source": [
    "Despite the deterministic objective being reduced down to $\\sim 10^{-8}$, the objective for the perturbed coils varies around $10^{-4}-10^{-3}$. This shows the impact of coil errors on the quasi symmetry of the magnetic field.\n",
    "\n",
    "Let's also quickly plot the stellarator for later comparison."
   ]
  },
  {
   "cell_type": "code",
   "execution_count": null,
   "metadata": {},
   "outputs": [],
   "source": [
    "det_objective.update(res.x)\n",
    "plot_stellarator(det_objective.stellarator, axis=det_objective.ma)"
   ]
  },
  {
   "cell_type": "markdown",
   "metadata": {},
   "source": [
    "We will now build the stochastic objective. To do this, we compute the objective value and the gradient for each of the objectives corresponding to a perturbed stellarator."
   ]
  },
  {
   "cell_type": "code",
   "execution_count": null,
   "metadata": {},
   "outputs": [],
   "source": [
    "Jvals_stoch = []\n",
    "\n",
    "def scipy_fun_stoch(x):\n",
    "    res = 0.\n",
    "    dres = np.zeros_like(x)\n",
    "    for obj in objectives:\n",
    "        obj.update(x)\n",
    "        res += obj.res\n",
    "        dres += obj.dres\n",
    "    res *= 1./nsamples\n",
    "    dres *= 1./nsamples\n",
    "    Jvals_stoch.append(res)\n",
    "    return res, dres\n",
    "\n",
    "res_stoch = minimize(scipy_fun_stoch, det_objective.x0, jac=True, method='bfgs', tol=1e-20,\n",
    "               options={\"maxiter\": 500, \"maxcor\": 100},\n",
    "               callback=objectives[0].callback)\n",
    "print(res)"
   ]
  },
  {
   "cell_type": "code",
   "execution_count": null,
   "metadata": {},
   "outputs": [],
   "source": [
    "plt.semilogy(Jvals_stoch)\n",
    "plt.show()"
   ]
  },
  {
   "cell_type": "markdown",
   "metadata": {},
   "source": [
    "Let's plot the objective values at the found minimum. Comparing this with the histogram above, we can see that the objective is a fair bit smaller on average. "
   ]
  },
  {
   "cell_type": "code",
   "execution_count": null,
   "metadata": {},
   "outputs": [],
   "source": [
    "vals = []\n",
    "for obj in objectives:\n",
    "    obj.update(res_stoch.x)\n",
    "    vals.append(obj.res)\n",
    "plt.hist(vals)\n",
    "plt.show()\n",
    "print('Mean objective', np.mean(vals))"
   ]
  },
  {
   "cell_type": "markdown",
   "metadata": {},
   "source": [
    "We approximated the mean of the objective by drawing a fixed number of perturbed coils from the distribution and then minimising for these coils. However, we might ask how good the found minimum is for different realisations of the noise. In other words, did we maybe do a good job for these particular perturbations, but are terrible for others?\n",
    "To do this, we perform an out-of-sample test. We draw 'fresh' pertubations and compute the mean objective value for them."
   ]
  },
  {
   "cell_type": "code",
   "execution_count": null,
   "metadata": {},
   "outputs": [],
   "source": [
    "n_outofsample = 100\n",
    "objectives_outofsample = []    \n",
    "for i in range(n_outofsample):\n",
    "    (coils, currents, magnetic_axis, eta_bar) = get_24_coil_data(nfp=nfp, ppp=10, at_optimum=False)\n",
    "    stellarator = CoilCollection(coils, currents, nfp, True)\n",
    "    stellarator.coils = [GaussianPerturbedCurve(coil, sampler) for coil in stellarator.coils]\n",
    "    objectives_outofsample.append(\n",
    "        SimpleNearAxisQuasiSymmetryObjective(\n",
    "            stellarator, magnetic_axis, iota_target, eta_bar=eta_bar,\n",
    "            coil_length_target=coil_length_target,\n",
    "            magnetic_axis_length_target=magnetic_axis_length_target))\n",
    "in_sample_values = []\n",
    "for obj in objectives:\n",
    "    obj.update(res_stoch.x)\n",
    "    in_sample_values.append(obj.res)\n",
    "mean_insample = np.mean(in_sample_values)\n",
    "\n",
    "out_of_sample_values = []\n",
    "for obj in objectives_outofsample:\n",
    "    obj.update(res_stoch.x)\n",
    "    out_of_sample_values.append(obj.res)\n",
    "mean_outofsample = np.mean(out_of_sample_values)\n",
    "print('In-sample =', mean_insample, 'vs out-of-sample =', mean_outofsample)"
   ]
  },
  {
   "cell_type": "markdown",
   "metadata": {},
   "source": [
    "**Observation**: We can see that the out-of-sample mean is slightly worse than the in-sample mean, but still significantly better than what we obtained from deterministic optimisation."
   ]
  },
  {
   "cell_type": "markdown",
   "metadata": {},
   "source": [
    "### Task:\n",
    "Change the `nsamples` variable in the third code cell to a low number, say 4, and rerun the stochastic optimisation and the in-sample vs out-of-sample comparison. How does it change?"
   ]
  }
 ],
 "metadata": {
  "kernelspec": {
   "display_name": "Python 3",
   "language": "python",
   "name": "python3"
  },
  "language_info": {
   "codemirror_mode": {
    "name": "ipython",
    "version": 3
   },
   "file_extension": ".py",
   "mimetype": "text/x-python",
   "name": "python",
   "nbconvert_exporter": "python",
   "pygments_lexer": "ipython3",
   "version": "3.7.7"
  }
 },
 "nbformat": 4,
 "nbformat_minor": 4
}
